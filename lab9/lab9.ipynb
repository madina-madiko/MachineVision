{
 "cells": [
  {
   "cell_type": "code",
   "execution_count": 2,
   "metadata": {
    "collapsed": true
   },
   "outputs": [],
   "source": [
    "# These are all the modules we'll be using later. Make sure you can import them\n",
    "# before proceeding further.\n",
    "from __future__ import print_function\n",
    "import matplotlib.pyplot as plt\n",
    "import numpy as np\n",
    "import os\n",
    "import sys\n",
    "from scipy import ndimage\n",
    "\n",
    "\n",
    "# Config the matplotlib backend as plotting inline in IPython\n",
    "%matplotlib inline"
   ]
  },
  {
   "cell_type": "code",
   "execution_count": 3,
   "metadata": {},
   "outputs": [
    {
     "name": "stdout",
     "output_type": "stream",
     "text": [
      ".\\\\notMNIST_small\\\\A\\\\\n",
      "Could not read: .\\\\notMNIST_small\\\\A\\\\RGVtb2NyYXRpY2FCb2xkT2xkc3R5bGUgQm9sZC50dGY=.png : cannot identify image file '.\\\\\\\\notMNIST_small\\\\\\\\A\\\\\\\\RGVtb2NyYXRpY2FCb2xkT2xkc3R5bGUgQm9sZC50dGY=.png' - it's ok, skipping.\n",
      "Full dataset tensor: (1872, 28, 28)\n",
      "Mean: -0.132626\n",
      "Standard deviation: 0.445128\n",
      ".\\\\notMNIST_small\\\\B\\\\\n",
      "Full dataset tensor: (1873, 28, 28)\n",
      "Mean: 0.00535609\n",
      "Standard deviation: 0.457115\n",
      ".\\\\notMNIST_small\\\\C\\\\\n",
      "Full dataset tensor: (1873, 28, 28)\n",
      "Mean: -0.141521\n",
      "Standard deviation: 0.44269\n",
      ".\\\\notMNIST_small\\\\D\\\\\n",
      "Full dataset tensor: (1873, 28, 28)\n",
      "Mean: -0.0492167\n",
      "Standard deviation: 0.459759\n",
      ".\\\\notMNIST_small\\\\E\\\\\n",
      "Full dataset tensor: (1873, 28, 28)\n",
      "Mean: -0.0599148\n",
      "Standard deviation: 0.45735\n",
      ".\\\\notMNIST_small\\\\F\\\\\n",
      "Could not read: .\\\\notMNIST_small\\\\F\\\\Q3Jvc3NvdmVyIEJvbGRPYmxpcXVlLnR0Zg==.png : cannot identify image file '.\\\\\\\\notMNIST_small\\\\\\\\F\\\\\\\\Q3Jvc3NvdmVyIEJvbGRPYmxpcXVlLnR0Zg==.png' - it's ok, skipping.\n",
      "Full dataset tensor: (1872, 28, 28)\n",
      "Mean: -0.118185\n",
      "Standard deviation: 0.452279\n",
      ".\\\\notMNIST_small\\\\G\\\\\n",
      "Full dataset tensor: (1872, 28, 28)\n",
      "Mean: -0.0925503\n",
      "Standard deviation: 0.449006\n",
      ".\\\\notMNIST_small\\\\H\\\\\n",
      "Full dataset tensor: (1872, 28, 28)\n",
      "Mean: -0.0586893\n",
      "Standard deviation: 0.458759\n",
      ".\\\\notMNIST_small\\\\I\\\\\n",
      "Full dataset tensor: (1872, 28, 28)\n",
      "Mean: 0.0526451\n",
      "Standard deviation: 0.471894\n",
      ".\\\\notMNIST_small\\\\J\\\\\n",
      "Full dataset tensor: (1872, 28, 28)\n",
      "Mean: -0.151689\n",
      "Standard deviation: 0.448014\n"
     ]
    }
   ],
   "source": [
    "image_size = 28  # Pixel width and height.\n",
    "pixel_depth = 255.0  # Number of levels per pixel.\n",
    "folders = [\n",
    "    r'.\\\\notMNIST_small\\\\A\\\\',\n",
    "    r'.\\\\notMNIST_small\\\\B\\\\',\n",
    "    r'.\\\\notMNIST_small\\\\C\\\\',\n",
    "    r'.\\\\notMNIST_small\\\\D\\\\',\n",
    "    r'.\\\\notMNIST_small\\\\E\\\\',\n",
    "    r'.\\\\notMNIST_small\\\\F\\\\',\n",
    "    r'.\\\\notMNIST_small\\\\G\\\\',\n",
    "    r'.\\\\notMNIST_small\\\\H\\\\',\n",
    "    r'.\\\\notMNIST_small\\\\I\\\\',\n",
    "    r'.\\\\notMNIST_small\\\\J\\\\'\n",
    "\n",
    "]\n",
    "\n",
    "def load_letter(folder, min_num_images):\n",
    "  \"\"\"Load the data for a single letter label.\"\"\"\n",
    "  image_files = os.listdir(folder)\n",
    "  dataset = np.ndarray(shape=(len(image_files), image_size, image_size),\n",
    "                         dtype=np.float32)\n",
    "  print(folder)\n",
    "  num_images = 0\n",
    "  for image in image_files:\n",
    "    image_file = os.path.join(folder, image)\n",
    "    try:\n",
    "      image_data = (ndimage.imread(image_file).astype(float) - \n",
    "                    pixel_depth / 2) / pixel_depth\n",
    "      if image_data.shape != (image_size, image_size):\n",
    "        raise Exception('Unexpected image shape: %s' % str(image_data.shape))\n",
    "      dataset[num_images, :, :] = image_data\n",
    "      num_images = num_images + 1\n",
    "    except IOError as e:\n",
    "      print('Could not read:', image_file, ':', e, '- it\\'s ok, skipping.')\n",
    "    \n",
    "  dataset = dataset[0:num_images, :, :]\n",
    "  if num_images < min_num_images:\n",
    "    raise Exception('Many fewer images than expected: %d < %d' %\n",
    "                    (num_images, min_num_images))\n",
    "    \n",
    "  print('Full dataset tensor:', dataset.shape)\n",
    "  print('Mean:', np.mean(dataset))\n",
    "  print('Standard deviation:', np.std(dataset))\n",
    "  return dataset\n",
    "\n",
    "X_datasets = list()\n",
    "Y_datasets = list()\n",
    "for idx in range(len(folders)):\n",
    "    folder = folders[idx] \n",
    "    X_datasets.append(load_letter(folder, 1800))\n",
    "    labels = np.zeros((X_datasets[-1].shape[0],len(folders)))\n",
    "    labels[:,idx] = 1\n",
    "    Y_datasets.append(labels)\n",
    "    "
   ]
  },
  {
   "cell_type": "code",
   "execution_count": 4,
   "metadata": {},
   "outputs": [
    {
     "name": "stdout",
     "output_type": "stream",
     "text": [
      "Total samples number: (18724, 28, 28)\n",
      "Samples for tests: 4681\n",
      "Samples for trains: 14043\n"
     ]
    },
    {
     "data": {
      "text/plain": [
       "<matplotlib.image.AxesImage at 0x25686b46080>"
      ]
     },
     "execution_count": 4,
     "metadata": {},
     "output_type": "execute_result"
    },
    {
     "data": {
      "image/png": "[encoded data removed]",
      "text/plain": [
       "<matplotlib.figure.Figure at 0x25686c0a2b0>"
      ]
     },
     "metadata": {},
     "output_type": "display_data"
    }
   ],
   "source": [
    "from sklearn.model_selection import train_test_split\n",
    "\n",
    "X_datasets2 = np.concatenate(X_datasets)\n",
    "Y_datasets2 = np.concatenate(Y_datasets)\n",
    "print(\"Total samples number:\",X_datasets2.shape)\n",
    "X_trains,X_tests,Y_trains,Y_tests = train_test_split(X_datasets2,Y_datasets2,test_size=0.25)\n",
    "print(\"Samples for tests:\",Y_tests.shape[0])\n",
    "print(\"Samples for trains:\",Y_trains.shape[0])\n",
    "plt.imshow(X_tests[0],cmap='gray')"
   ]
  },
  {
   "cell_type": "code",
   "execution_count": 5,
   "metadata": {},
   "outputs": [
    {
     "name": "stdout",
     "output_type": "stream",
     "text": [
      "(28, 28)\n",
      "10\n"
     ]
    },
    {
     "name": "stderr",
     "output_type": "stream",
     "text": [
      "C:\\Users\\User\\Anaconda3\\lib\\site-packages\\ipykernel_launcher.py:24: UserWarning: Update your `Dense` call to the Keras 2 API: `Dense(784, input_shape=(784,), activation=\"relu\", kernel_initializer=\"uniform\")`\n",
      "C:\\Users\\User\\Anaconda3\\lib\\site-packages\\ipykernel_launcher.py:25: UserWarning: Update your `Dense` call to the Keras 2 API: `Dense(392, activation=\"relu\", kernel_initializer=\"uniform\")`\n",
      "C:\\Users\\User\\Anaconda3\\lib\\site-packages\\ipykernel_launcher.py:26: UserWarning: Update your `Dense` call to the Keras 2 API: `Dense(784, activation=\"relu\", kernel_initializer=\"uniform\")`\n",
      "C:\\Users\\User\\Anaconda3\\lib\\site-packages\\ipykernel_launcher.py:27: UserWarning: Update your `Dense` call to the Keras 2 API: `Dense(10, name=\"output\", kernel_initializer=\"uniform\")`\n"
     ]
    },
    {
     "name": "stdout",
     "output_type": "stream",
     "text": [
      "_________________________________________________________________\n",
      "Layer (type)                 Output Shape              Param #   \n",
      "=================================================================\n",
      "reshape_1 (Reshape)          (None, 784)               0         \n",
      "_________________________________________________________________\n",
      "dense_1 (Dense)              (None, 784)               615440    \n",
      "_________________________________________________________________\n",
      "dense_2 (Dense)              (None, 392)               307720    \n",
      "_________________________________________________________________\n",
      "dense_3 (Dense)              (None, 784)               308112    \n",
      "_________________________________________________________________\n",
      "output (Dense)               (None, 10)                7850      \n",
      "_________________________________________________________________\n",
      "softmax (Activation)         (None, 10)                0         \n",
      "=================================================================\n",
      "Total params: 1,239,122\n",
      "Trainable params: 1,239,122\n",
      "Non-trainable params: 0\n",
      "_________________________________________________________________\n",
      "Train on 10532 samples, validate on 3511 samples\n",
      "Epoch 1/50\n",
      "Epoch 00001: val_loss improved from inf to 0.06111, saving model to ./weights.net\n",
      " - 57s - loss: 0.0853 - acc: 0.9722 - val_loss: 0.0611 - val_acc: 0.9797\n",
      "Epoch 2/50\n",
      "Epoch 00002: val_loss improved from 0.06111 to 0.05785, saving model to ./weights.net\n",
      " - 38s - loss: 0.0603 - acc: 0.9804 - val_loss: 0.0578 - val_acc: 0.9815\n",
      "Epoch 3/50\n",
      "Epoch 00003: val_loss did not improve\n",
      " - 45s - loss: 0.0517 - acc: 0.9832 - val_loss: 0.0662 - val_acc: 0.9773\n",
      "Epoch 00003: early stopping\n",
      "4681/4681 [==============================] - 2s 330us/step\n",
      "[0.069788686884974999, 0.97754754491199725]\n"
     ]
    }
   ],
   "source": [
    "# Create first network with Keras\n",
    "from keras.models import Sequential\n",
    "from keras.layers import Dense,Activation,Reshape\n",
    "from keras.callbacks import EarlyStopping,ModelCheckpoint\n",
    "import numpy\n",
    "\n",
    "callbacks = [\n",
    "    EarlyStopping(monitor='val_loss', min_delta=0.00001, verbose=1),\n",
    "    # EarlyStopping(monitor='val_loss', patience=2, verbose=0),\n",
    "    ModelCheckpoint(filepath='./weights.net', verbose=1, save_best_only=True),\n",
    "    \n",
    "]\n",
    "\n",
    "# fix random seed for reproducibility\n",
    "seed = 7\n",
    "numpy.random.seed(seed)\n",
    "\n",
    "input_dim = X_trains[0].shape[0]*X_trains[0].shape[1]\n",
    "print((X_trains[0].shape[0],X_trains[0].shape[1]))\n",
    "print(Y_trains[0].shape[0])\n",
    "# create model\n",
    "model = Sequential()\n",
    "model.add(Reshape((input_dim,), input_shape=(X_trains[0].shape[0],X_trains[0].shape[1])))\n",
    "model.add(Dense(input_dim, input_shape = (input_dim,), init='uniform', activation='relu'))\n",
    "model.add(Dense(int(input_dim/2), init='uniform', activation='relu'))\n",
    "model.add(Dense(int(input_dim), init='uniform', activation='relu'))\n",
    "model.add(Dense(Y_trains[0].shape[0],init='uniform', name=\"output\"))\n",
    "model.add(Activation('softmax', name=\"softmax\"))\n",
    "model.summary()\n",
    "\n",
    "# Compile model\n",
    "model.compile(loss='binary_crossentropy', optimizer='adam', metrics=['accuracy'])\n",
    "# Fit the model\n",
    "model.fit(X_trains, \n",
    "          Y_trains, \n",
    "          epochs=50, \n",
    "          batch_size=10, \n",
    "          verbose=2, \n",
    "          validation_split=0.25,\n",
    "          callbacks=callbacks)\n",
    "# calculate predictions\n",
    "results = model.evaluate(X_tests, Y_tests, batch_size=32, verbose=1, sample_weight=None)\n",
    "# round predictions\n",
    "print(results)"
   ]
  },
  {
   "cell_type": "code",
   "execution_count": 6,
   "metadata": {},
   "outputs": [
    {
     "data": {
      "image/png": "[encoded data removed]",
      "text/plain": [
       "<matplotlib.figure.Figure at 0x25681d9a4a8>"
      ]
     },
     "metadata": {},
     "output_type": "display_data"
    }
   ],
   "source": [
    "clazzez = ['A','B','C','D','E','F','G','H','I','J']\n",
    "results = model.predict(X_tests)\n",
    "errors = list()\n",
    "for idx in range(len(results)):\n",
    "    res = results[idx]\n",
    "    cla_pre = clazzez[np.argmax(res)]\n",
    "    cla_tar = clazzez[np.argmax(Y_tests[idx])]\n",
    "    if cla_pre!=cla_tar:\n",
    "#         print(cla_pre,cla_tar)\n",
    "        errors.append(idx)\n",
    "# print(errors)\n",
    "\n",
    "problems = 10\n",
    "fig, axes = plt.subplots(problems, figsize=(10,10))\n",
    "fig.tight_layout()\n",
    "for idx in range(problems):\n",
    "    err = errors[idx]\n",
    "    cla_pre = clazzez[np.argmax(results[err])]\n",
    "    cla_tar = clazzez[np.argmax(Y_tests[err])]    \n",
    "    \n",
    "    axes[idx].imshow(X_tests[err],cmap='gray')\n",
    "    axes[idx].set_title(\"cla_pre=%s cla_tar=%s \" % (cla_pre,cla_tar), fontsize=10)\n",
    "    axes[idx].set_xticks([]) \n",
    "    axes[idx].set_yticks([]) \n"
   ]
  },
  {
   "cell_type": "code",
   "execution_count": null,
   "metadata": {
    "collapsed": true
   },
   "outputs": [],
   "source": []
  }
 ],
 "metadata": {
  "anaconda-cloud": {},
  "kernelspec": {
   "display_name": "Python 3",
   "language": "python",
   "name": "python3"
  },
  "language_info": {
   "codemirror_mode": {
    "name": "ipython",
    "version": 3
   },
   "file_extension": ".py",
   "mimetype": "text/x-python",
   "name": "python",
   "nbconvert_exporter": "python",
   "pygments_lexer": "ipython3",
   "version": "3.6.1"
  }
 },
 "nbformat": 4,
 "nbformat_minor": 2
}
